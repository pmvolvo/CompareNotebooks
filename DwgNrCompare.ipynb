{
 "cells": [
  {
   "cell_type": "code",
   "execution_count": 26,
   "id": "008f2823-db6a-417c-9b18-e0095347f57e",
   "metadata": {},
   "outputs": [
    {
     "name": "stdout",
     "output_type": "stream",
     "text": [
      "Requirement already satisfied: xlrd in c:\\users\\pmarkov1\\anaconda3\\envs\\homl3\\lib\\site-packages (2.0.1)\n"
     ]
    }
   ],
   "source": [
    "import pandas as pd\n",
    "import os\n",
    "import openpyxl\n",
    "import sys\n",
    "!{sys.executable} -m pip install xlrd\n",
    "#import files and select columns to manipulate\n",
    "def readPurchaseList(excel_names, sheet_names,columns):\n",
    "    data = pd.read_excel(excel_names, sheet_name=sheet_names)\n",
    "    df= pd.DataFrame(data,columns=columns)\n",
    "    return data,df"
   ]
  },
  {
   "cell_type": "code",
   "execution_count": 27,
   "id": "f748eb19-8d17-4eb0-a5b8-2b3498e1c2e8",
   "metadata": {},
   "outputs": [],
   "source": [
    "import tkinter as tk\n",
    "from tkinter import filedialog\n",
    "\n",
    "\n",
    "root = tk.Tk()\n",
    "root.withdraw()\n",
    "\n",
    "excel_name1 = filedialog.askopenfilename(title='Select Excel Files to compare')\n",
    "sheet_names = 'Parts_list' \n",
    "columns = ['Unnamed: 0','Unnamed: 1','Description','Change number']\n",
    "data, first_list = readPurchaseList(excel_name1, sheet_names,columns)\n",
    "excel_name2 = filedialog.askopenfilename(title='Select Excel Files to compare') \n",
    "data, second_list = readPurchaseList(excel_name2, sheet_names,columns)"
   ]
  },
  {
   "cell_type": "code",
   "execution_count": 46,
   "id": "9d94f8df-81cc-4cf1-8b0e-2172e8af16a4",
   "metadata": {},
   "outputs": [],
   "source": [
    "station1 = excel_name1.split('GA-')[3].split('/')[0]\n",
    "station2 = excel_name2.split('/')[6].split('(')[0]\n"
   ]
  },
  {
   "cell_type": "code",
   "execution_count": 29,
   "id": "ef6db144-45a5-42c1-88ca-4aa2ad9c999a",
   "metadata": {},
   "outputs": [],
   "source": [
    "import re\n",
    "def regexCorrection(string):\n",
    "    return re.sub('[^a-zA-Z0-9]', '', string.upper())"
   ]
  },
  {
   "cell_type": "code",
   "execution_count": 30,
   "id": "c76b893f-0776-45b3-b242-d7bbdf45aefc",
   "metadata": {},
   "outputs": [],
   "source": [
    "def returnUniqueCodes(some_list):\n",
    "    codes = some_list['Unnamed: 1'].values\n",
    "    corrected_codes = [regexCorrection(str(item)) for item in codes[4:-1]]\n",
    "    unique = set(corrected_codes)\n",
    "    if len(corrected_codes)!=len(unique):\n",
    "        return False,unique\n",
    "    else:\n",
    "        return True, unique"
   ]
  },
  {
   "cell_type": "code",
   "execution_count": 45,
   "id": "c5d8448c-8e37-4dc0-9b62-4b137bd31acf",
   "metadata": {},
   "outputs": [
    {
     "name": "stdout",
     "output_type": "stream",
     "text": [
      "   Unnamed: 0                  Unnamed: 1                   Description  \\\n",
      "   336110FD01 436010FD01       336110FD01       436010FD01   336110FD01   \n",
      "4           0          0  D22-068 140 150  D18-052 696 731          NaN   \n",
      "5         100        100  D22-068 140 151  D18-052 696 733          NaN   \n",
      "6         101        101  D22-068 140 179  D18-052 696 796          NaN   \n",
      "7         102        102              NaN              NaN          NaN   \n",
      "8         103        103              NaN              NaN          NaN   \n",
      "9         104        104              NaN              NaN          NaN   \n",
      "10        105        105              NaN              NaN          NaN   \n",
      "11        106        106              NaN              NaN          NaN   \n",
      "12        107        107              NaN              NaN          NaN   \n",
      "13        108        108              NaN              NaN          NaN   \n",
      "14        110        110  D22-068 140 189  D18-052 696 803          NaN   \n",
      "15        112        112              NaN              NaN          NaN   \n",
      "16        114        114              NaN              NaN          NaN   \n",
      "17        115        115              NaN              NaN          NaN   \n",
      "18        116        116              NaN              NaN          NaN   \n",
      "19        117        117  D22-068 140 169  D18-052 696 795          NaN   \n",
      "20        118        118              NaN              NaN          NaN   \n",
      "21        119        119              NaN              NaN          NaN   \n",
      "22        120        120              NaN              NaN          NaN   \n",
      "23        121        121              NaN              NaN          NaN   \n",
      "24        122        122              NaN              NaN          NaN   \n",
      "25        123        123              NaN              NaN          NaN   \n",
      "26        124        124  D22-068 140 156  D18-052 696 747  Swivel_Unit   \n",
      "27        125        125              NaN              NaN          NaN   \n",
      "28        126        126              NaN              NaN          NaN   \n",
      "29        127        127              NaN              NaN          NaN   \n",
      "30        128        128              NaN              NaN          NaN   \n",
      "\n",
      "               Change number             \n",
      "    436010FD01    336110FD01 436010FD01  \n",
      "4          NaN           NaN        NaN  \n",
      "5          NaN           NaN        NaN  \n",
      "6          NaN           NaN        NaN  \n",
      "7          NaN           NaN        NaN  \n",
      "8          NaN           NaN        NaN  \n",
      "9          NaN           NaN        NaN  \n",
      "10         NaN           NaN        NaN  \n",
      "11         NaN           NaN        NaN  \n",
      "12         NaN           NaN        NaN  \n",
      "13         NaN           NaN        NaN  \n",
      "14         NaN           NaN        NaN  \n",
      "15         NaN           NaN        NaN  \n",
      "16         NaN           NaN        NaN  \n",
      "17         NaN           NaN        NaN  \n",
      "18         NaN           NaN        NaN  \n",
      "19         NaN           NaN        NaN  \n",
      "20         NaN           NaN        NaN  \n",
      "21         NaN           NaN        NaN  \n",
      "22         NaN           NaN        NaN  \n",
      "23         NaN           NaN        NaN  \n",
      "24         NaN           NaN        NaN  \n",
      "25         NaN           NaN        NaN  \n",
      "26  Clamp_Unit           NaN        NaN  \n",
      "27         NaN           NaN        NaN  \n",
      "28         NaN           NaN        NaN  \n",
      "29         NaN           NaN        NaN  \n",
      "30         NaN           NaN        NaN  \n"
     ]
    }
   ],
   "source": [
    "compared = first_list.compare(second_list).rename({'self': station1, 'other': station2}, axis=1, level=1)\n",
    "print(compared.iloc[3:-1])"
   ]
  },
  {
   "cell_type": "code",
   "execution_count": null,
   "id": "9351929d-d78b-4f50-888e-16ba0c103324",
   "metadata": {},
   "outputs": [],
   "source": []
  }
 ],
 "metadata": {
  "kernelspec": {
   "display_name": "Python 3 (ipykernel)",
   "language": "python",
   "name": "python3"
  },
  "language_info": {
   "codemirror_mode": {
    "name": "ipython",
    "version": 3
   },
   "file_extension": ".py",
   "mimetype": "text/x-python",
   "name": "python",
   "nbconvert_exporter": "python",
   "pygments_lexer": "ipython3",
   "version": "3.10.8"
  }
 },
 "nbformat": 4,
 "nbformat_minor": 5
}
